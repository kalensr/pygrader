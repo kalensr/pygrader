{
 "cells": [
  {
   "cell_type": "markdown",
   "metadata": {
    "heading_collapsed": true
   },
   "source": [
    "#### Import Modules"
   ]
  },
  {
   "cell_type": "code",
   "execution_count": 1,
   "metadata": {
    "hidden": true
   },
   "outputs": [],
   "source": [
    "import os\n",
    "import time\n",
    "from pynput.keyboard import Key, Controller\n",
    "import threading\n",
    "import platform\n",
    "import importlib"
   ]
  },
  {
   "cell_type": "markdown",
   "metadata": {
    "heading_collapsed": true
   },
   "source": [
    "#### to_funct()\n",
    "to_funct() - Converts students program to a callable function. \n",
    "Adds a function name - for calling, and return objects for validation of expected results\n",
    "```\n",
    "def <function_name>\n",
    "    ~~~~~~~~\n",
    "    student code here\n",
    "    ~~~~~~~~\n",
    "return <object(s)>\n",
    "```\n",
    "This modified program is written as a new temporary program for execution. "
   ]
  },
  {
   "cell_type": "code",
   "execution_count": 2,
   "metadata": {
    "code_folding": [
     0
    ],
    "hidden": true
   },
   "outputs": [],
   "source": [
    "def to_funct(fpath, file_name, return_results, cr_func_w_main=False):        \n",
    "    '''\n",
    "    function - reads into memory, the program undertests\n",
    "        modifies the program by adding function definition and return statements, and writes\n",
    "        to disk a new program (named _prg_undr_test.py) that can be imported\n",
    "        and called by _prog_driver.py\n",
    "        \n",
    "        There are several different programs that this function parses: \n",
    "        | No Main Function & No Return Statement | \n",
    "        | Main Function    & No Return Statement | \n",
    "        | Main Function    & Return Statement | \n",
    "        \n",
    "        In any case - to_funct() - needs to produce a new program with both a Main function and Return statement\n",
    "            in order to programmatically execute the program. \n",
    "            \n",
    "        Future consideration: \n",
    "            \n",
    "            [code is too complex; should introduce regex to parsing logic, and reduce complexity, \n",
    "            and a number of unit tests]\n",
    "            \n",
    "            [ feb 2020 - added a unit test cell block, unit test folder, and beginning to\n",
    "                add different programs that will exercise different paths of this function.]\n",
    "        \n",
    "        Maintained by kalen.howell@gmail.com \n",
    "    '''\n",
    "    \n",
    "    #print(\"working with file: \" + file_name)\n",
    "    \n",
    "    file_name=os.path.join(fpath, file_name)\n",
    "    \n",
    "    if return_results != '':\n",
    "        cr_return=True\n",
    "    else:\n",
    "        cr_return=False\n",
    "    with open(file_name, \"r\") as in_file:\n",
    "        buf = in_file.readlines()\n",
    "    cnt = 0\n",
    "    if cr_func_w_main == False and cr_return==True:\n",
    "        with open(\"_prg_undr_test\" + \".py\", \"w\") as out_file:\n",
    "            for line in buf:\n",
    "                if cnt == 0:\n",
    "                    line = \"def do_work():\\n\\t\" + line\n",
    "                else:\n",
    "                    line = \"\\t\" + line\n",
    "                cnt =+1\n",
    "                out_file.write(line)\n",
    "            out_file.write(\"\\n\\treturn \" + return_results)\n",
    "    elif cr_func_w_main == True:\n",
    "        in_funct = False\n",
    "        ret_writen = False\n",
    "        with open(\"_prg_undr_test\" + \".py\", \"w\") as out_file:\n",
    "            for line in buf:\n",
    "                if cr_return ==True and \"def \" in line and in_funct == True:\n",
    "                    line = \"    return \" + return_results + \"\\n\" + line\n",
    "                    in_funct = False\n",
    "                    ret_writen = True\n",
    "                if \"def main():\" in line:\n",
    "                    line = \"def do_work():\\n\"\n",
    "                    in_funct = True\n",
    "                if \"main()\" in line:\n",
    "                    line = ''\n",
    "                out_file.write(line)\n",
    "            if ret_writen == False:\n",
    "                out_file.write(\"\\n    return \" + return_results)\n",
    "    else:\n",
    "        with open(\"_prg_undr_test\" + \".py\", \"w\") as out_file:\n",
    "            for line in buf:\n",
    "                out_file.write(line)\n"
   ]
  },
  {
   "cell_type": "markdown",
   "metadata": {
    "heading_collapsed": true
   },
   "source": [
    "#### Program Driver Cell Block\n",
    "This code block - programmatically launches the temporary program (writen from above code), and conducts data-entry using provided input data. The student code processes that data according to the assignment requirements, and then returns the **actual results** to the calling function for verification (against **expected results**). "
   ]
  },
  {
   "cell_type": "code",
   "execution_count": 3,
   "metadata": {
    "code_folding": [
     0
    ],
    "hidden": true
   },
   "outputs": [],
   "source": [
    "# This Cell block represents: - a multithreaded application used to: \n",
    "# 1. launch the program under tests\n",
    "# 2. drive data entry of the program under tests\n",
    "# 3. compares expted results against actual results of the program under tests\n",
    "# maintained by kalen.howell@gmail.com\n",
    "\n",
    "def enter(data):\n",
    "    '''\n",
    "    function does data entry into program under tests.\n",
    "    '''\n",
    "    keyboard = Controller()\n",
    "    \n",
    "    for d in data:\n",
    "        keyboard.press(d)\n",
    "        keyboard.release(d)\n",
    "    keyboard.press(Key.enter)\n",
    "    keyboard.release(Key.enter)\n",
    "    time.sleep(1)\n",
    "\n",
    "def launch_typer(input_data):\n",
    "    '''\n",
    "    function does data entry into program under tests.\n",
    "    '''\n",
    "    time.sleep(1)\n",
    "    for d in input_data:\n",
    "        enter(d)\n",
    "\n",
    "def launch_prg(prog, expected_results):\n",
    "    '''\n",
    "    launches program under tester, receives return values, and validates against expected results.\n",
    "    '''\n",
    "    results = prog.do_work()\n",
    "    try:\n",
    "        assert results == expected_results, \"\\n **FAILURE** \\texpecting: \" + str(expected_results) + \"\\n\\trecieved: \" + str(results) +\"\\n\"\n",
    "    except Exception as e: print(e)\n",
    "    \n",
    "def test(prog, input_data, expected_results):\n",
    "    '''\n",
    "    multithreaded function - \n",
    "        thread 1 - launches program under test, the other thread\n",
    "        thread 2 - launches a typer programmer, which does data entry into the program under test\n",
    "    '''\n",
    "    prog_ut = threading.Thread(target=launch_prg, args=(prog, expected_results,),daemon=True)\n",
    "    typer = threading.Thread(target=launch_typer, args=(input_data,), daemon=True)\n",
    "    print('\\n')\n",
    "    \n",
    "    prog_ut.start()\n",
    "    typer.start()\n",
    "    prog_ut.join()\n",
    "\n",
    "def get_test_path(dir='test_dir'):\n",
    "    '''\n",
    "    Checks the host operating systems, and sets the working test path accordingly. \n",
    "    Default path - is working \"test_dir\" - the place to drop student programs to be tested. \n",
    "    ''' \n",
    "       \n",
    "    win_fpath = 'C:\\\\Users\\\\KXH\\\\project_work\\\\python_work\\\\pygrader\\\\pygrader\\\\' + dir\n",
    "    linux_fpath = '/Users/kalenhowellsr/Projects/code/pygrader/' + dir + '/'\n",
    "    \n",
    "    if platform.system() == \"Windows\":\n",
    "        test_path = win_fpath\n",
    "    else:\n",
    "        test_path = linux_fpath  \n",
    "    return test_path\n",
    "        "
   ]
  },
  {
   "cell_type": "markdown",
   "metadata": {
    "heading_collapsed": true
   },
   "source": [
    "#### Program Test Code\n",
    "Serves a type of unit tests - to ensure any code changes made does not break pygrader"
   ]
  },
  {
   "cell_type": "code",
   "execution_count": 4,
   "metadata": {
    "code_folding": [],
    "hidden": true
   },
   "outputs": [
    {
     "name": "stdout",
     "output_type": "stream",
     "text": [
      "\n",
      "\n",
      "Enter the number of cookies: 24\n",
      "The amount of sugar needed is: 0.750 cups\n",
      "The amount of butter needed is: 0.500 cups\n",
      "The amount of flour needed is: 1.375 cups\n",
      "\n",
      "\n",
      "Enter the number of cookies: 65\n",
      "The amount of sugar needed is: 2.031 cups\n",
      "The amount of butter needed is: 1.354 cups\n",
      "The amount of flour needed is: 3.724 cups\n",
      "\n",
      "\n",
      "Enter the number of cookies: 65\n",
      "The amount of sugar needed is: 2.031 cups\n",
      "The amount of butter needed is: 1.354 cups\n",
      "The amount of flour needed is: 3.724 cups\n",
      "\n",
      " **FAILURE** \texpecting: (2.03125, 1.3542666666666665, 3.723958333333333)\n",
      "\trecieved: (2.03125, 1.3541666666666665, 3.723958333333333)\n",
      "\n",
      "\n",
      "\n",
      "Enter the mass of an object: 6\n",
      "The object is too light. The weight is 58.8 newtons\n",
      "\n",
      "\n",
      "Enter the mass of an object: 49\n",
      "The weight is 480.2 newtons\n",
      "\n",
      "\n",
      "Enter the mass of an object: 50\n",
      "The weight is 490.0 newtons\n",
      "\n",
      "\n",
      "Enter the mass of an object: 102\n",
      "The object is too heavy. The weight is 999.6 newtons\n",
      "\n",
      "\n",
      "Enter numerical score: 90\n",
      "A\n",
      "\n",
      "\n",
      "Enter numerical score: 81.6\n",
      "B\n",
      "\n",
      "\n",
      "Enter numerical score: 70\n",
      "C\n",
      "\n",
      "\n",
      "Enter numerical score: 62.8\n",
      "D\n",
      "\n",
      "\n",
      "Enter numerical score: 55.5\n",
      "F\n",
      "\n",
      "\n",
      "Enter numerical score: 102\n",
      "invalid score\n",
      "\n",
      "\n",
      "Enter numerical score: -1\n",
      "invalid score\n",
      "\n",
      "\n",
      "Enter a series of positive numbers to be added together.\n",
      "Enter a negative number to signal when you want to stop entering numbers.\n",
      "Enter a positive number, or a negative number to stop: 15\n",
      "Enter a positive number, or a negative number to stop: 45.29876\n",
      "Enter a positive number, or a negative number to stop: 20000000\n",
      "Enter a positive number, or a negative number to stop: -3\n",
      "The sum of the numbers entered is 20,000,060.30\n"
     ]
    }
   ],
   "source": [
    "# ADDING DIFFERENT PROGRAMS AND ASSOCIATED TESTS - IN CASE UPDATES ARE NEEDED\n",
    "#   TO PYGRADER CODE. ENSURE I DON'T BREAK ANYTHING WHEN MAKING CHANGES\n",
    "\n",
    "# pygrader_test.py - this is where the specific tests are configured. \n",
    "\n",
    "# tp.to_funct() - reads the program under test, and writes a new program, adding\n",
    "#\t\tnecessary functions that are used to drive the program. \n",
    "# fpath - specify the path where the program under tests resides\n",
    "# file_name - the name of the program to test\n",
    "# return_results - the name of the primary function; returns results of prog execution  \n",
    "# cr_func_w_main - True - indicates the program has main() function\n",
    "#\t\t   False - indicates the program has no function. so create one\n",
    "\n",
    "to_funct(fpath=get_test_path(dir=\"prog_test_dir\"),\n",
    "            file_name='Cookies.py',\n",
    "            return_results='sugarNeeded, butterNeeded, flourNeeded',\n",
    "            cr_func_w_main=False)\n",
    "\n",
    "# after the new program is written, it is imported and driven by _prog_driver\n",
    "\n",
    "import _prg_undr_test as prog\n",
    "importlib.reload(prog) # flushes cache of previous test run's intermediate results\n",
    "\n",
    "# input_data - the data to be entered into the running program under tests. \n",
    "# expected_results - the expected results to be returned by the program under tests. \n",
    "test(prog, input_data=['24'] , expected_results= (0.75, 0.5, 1.375))\n",
    "test(prog, input_data=['65'] , expected_results= (2.03125, 1.3541666666666665, 3.723958333333333))\n",
    "# the following produces an error for failure validation\n",
    "test(prog, input_data=['65'] , expected_results= (2.03125, 1.3542666666666665, 3.723958333333333))\n",
    "\n",
    "to_funct(fpath=get_test_path(dir=\"prog_test_dir\"),\n",
    "            file_name='Weight.py',\n",
    "            return_results='weight',\n",
    "            cr_func_w_main=False)\n",
    "\n",
    "# after the new program is written, it is imported and driven by _prog_driver\n",
    "import _prg_undr_test as prog\n",
    "importlib.reload(prog)  # flushes cache of previous test run's intermediate results\n",
    "os.remove('_prg_undr_test.py') # removing program after loading into memory\n",
    "\n",
    "# input_data - the data to be entered into the running program under tests. \n",
    "# expected_results - the expected results to be returned by the program under tests. \n",
    "test(prog, input_data=['6'] , expected_results= (58.800000000000004))\n",
    "test(prog, input_data=['49'] , expected_results= (480.20000000000005))\n",
    "test(prog, input_data=['50'] , expected_results= (490.00000000000006))\n",
    "test(prog, input_data=['102'] , expected_results= (999.6))\n",
    "\n",
    "to_funct(fpath=get_test_path(dir=\"prog_test_dir\"),\n",
    "            file_name='Ch3Exercise.py',\n",
    "            return_results='None',\n",
    "            cr_func_w_main=False)\n",
    "\n",
    "# after the new program is written, it is imported and driven by _prog_driver\n",
    "import _prg_undr_test as prog\n",
    "importlib.reload(prog)\n",
    "os.remove('_prg_undr_test.py') # removing program after loading into memory\n",
    "\n",
    "# input_data - the data to be entered into the running program under tests. \n",
    "# expected_results - the expected results to be returned by the program under tests. \n",
    "test(prog, input_data=['90'] , expected_results= None)\n",
    "test(prog, input_data=['81.6'] , expected_results= None)\n",
    "test(prog, input_data=['70'] , expected_results= None)\n",
    "test(prog, input_data=['62.8'] , expected_results= None)\n",
    "test(prog, input_data=['55.5'] , expected_results= None)\n",
    "test(prog, input_data=['102'] , expected_results= None)\n",
    "test(prog, input_data=['-1'] , expected_results= None)\n",
    "\n",
    "# Summation Test\n",
    "to_funct(fpath=get_test_path(dir=\"prog_test_dir\"),\n",
    "            file_name='sum.py',\n",
    "            return_results='sum',\n",
    "            cr_func_w_main=False)\n",
    "\n",
    "# after the new program is written, it is imported and driven by _prog_driver\n",
    "import _prg_undr_test as prog\n",
    "importlib.reload(prog)\n",
    "os.remove('_prg_undr_test.py') # removing program after loading into memory\n",
    "\n",
    "# input_data - the data to be entered into the running program under tests. \n",
    "# expected_results - the expected results to be returned by the program under tests. \n",
    "test(prog, input_data=['15', '45.29876','20000000','-3'] , expected_results= 20000060.29876)"
   ]
  },
  {
   "cell_type": "markdown",
   "metadata": {
    "heading_collapsed": true
   },
   "source": [
    "#### Test: Cookies Assignment"
   ]
  },
  {
   "cell_type": "code",
   "execution_count": null,
   "metadata": {
    "hidden": true
   },
   "outputs": [],
   "source": [
    "# pygrader_test.py - this is where the specific tests are configured. \n",
    "\n",
    "# tp.to_funct() - reads the program under test, and writes a new program, adding\n",
    "#\t\tnecessary functions that are used to drive the program. \n",
    "# fpath - specify the path where the program under tests resides\n",
    "# file_name - the name of the program to test\n",
    "# return_results - the name of the primary function; returns results of prog execution  \n",
    "# cr_func_w_main - True - indicates the program has main() function\n",
    "#\t\t   False - indicates the program has no function. so create one\n",
    "\n",
    "to_funct(fpath=get_test_path(dir=\"test_dir\"),\n",
    "            file_name='Cookies.py',\n",
    "            return_results='sugarNeeded, butterNeeded, flourNeeded',\n",
    "            cr_func_w_main=False)\n",
    "\n",
    "# after the new program is written, it is imported and driven by _prog_driver\n",
    "import _prg_undr_test as prog\n",
    "importlib.reload(prog)  # flushes cache of previous test run's intermediate results\n",
    "os.remove('_prg_undr_test.py') # removing program after loading into memory\n",
    "\n",
    "# input_data - the data to be entered into the running program under tests. \n",
    "# expected_results - the expected results to be returned by the program under tests. \n",
    "test(prog, input_data=['24'] , expected_results= (0.75, 0.5, 1.375))\n",
    "test(prog, input_data=['65'] , expected_results= (2.03125, 1.3541666666666665, 3.723958333333333))\n",
    "\n",
    "\n"
   ]
  },
  {
   "cell_type": "markdown",
   "metadata": {
    "heading_collapsed": true
   },
   "source": [
    "#### Test:: Mass / Weight Tests Assignment"
   ]
  },
  {
   "cell_type": "code",
   "execution_count": null,
   "metadata": {
    "hidden": true
   },
   "outputs": [],
   "source": [
    "#### pygrader_test.py - this is where the specific tests are configured. \n",
    "\n",
    "# tp.to_funct() - reads the program under test, and writes a new program, adding\n",
    "#\t\tnecessary functions that are used to drive the program. \n",
    "# fpath - specify the path where the program under tests resides\n",
    "# file_name - the name of the program to test\n",
    "# return_results - the name of the primary function; returns results of prog execution  \n",
    "# cr_func_w_main - True - indicates the program has main() function\n",
    "#\t\t   False - indicates the program has no function. so create one\n",
    "\n",
    "to_funct(fpath=get_test_path(dir=\"test_dir\"),\n",
    "            file_name='weight.py',\n",
    "            return_results='weight',\n",
    "            cr_func_w_main=False)\n",
    "\n",
    "# after the new program is written, it is imported and driven by _prog_driver\n",
    "import _prg_undr_test as prog\n",
    "importlib.reload(prog)\n",
    "os.remove('_prg_undr_test.py') # removing program after loading into memory\n",
    "\n",
    "# input_data - the data to be entered into the running program under tests. \n",
    "# expected_results - the expected results to be returned by the program under tests. \n",
    "test(prog, input_data=['6'] , expected_results= (58.800000000000004))\n",
    "test(prog, input_data=['49'] , expected_results= (480.20000000000005))\n",
    "test(prog, input_data=['50'] , expected_results= (490.00000000000006))\n",
    "test(prog, input_data=['102'] , expected_results= (999.6))\n"
   ]
  },
  {
   "cell_type": "markdown",
   "metadata": {
    "heading_collapsed": true
   },
   "source": [
    "#### Test: Convert Score to Grades - (Ch3 Text Exercise)\n",
    "Convert number grade to letter grade. \n",
    "This program require manual verifying of proper output. "
   ]
  },
  {
   "cell_type": "code",
   "execution_count": null,
   "metadata": {
    "code_folding": [],
    "hidden": true,
    "scrolled": true
   },
   "outputs": [],
   "source": [
    "# pygrader_test.py - this is where the specific tests are configured. \n",
    "\n",
    "# tp.to_funct() - reads the program under test, and writes a new program, adding\n",
    "#\t\tnecessary functions that are used to drive the program. \n",
    "# fpath - specify the path where the program under tests resides\n",
    "# file_name - the name of the program to test\n",
    "# return_results - the name of the primary function; returns results of prog execution  \n",
    "# cr_func_w_main - True - indicates the program has main() function\n",
    "#\t\t   False - indicates the program has no function. so create one\n",
    "\n",
    "to_funct(fpath=get_test_path(dir=\"test_dir\"),\n",
    "            file_name='ch3.py',\n",
    "            return_results='None',\n",
    "            cr_func_w_main=False)\n",
    "\n",
    "# after the new program is written, it is imported and driven by _prog_driver\n",
    "import _prg_undr_test as prog\n",
    "importlib.reload(prog)\n",
    "os.remove('_prg_undr_test.py') # removing program after loading into memory\n",
    "\n",
    "# input_data - the data to be entered into the running program under tests. \n",
    "# expected_results - the expected results to be returned by the program under tests. \n",
    "test(prog, input_data=['90'] , expected_results= None)\n",
    "test(prog, input_data=['81.6'] , expected_results= None)\n",
    "test(prog, input_data=['70'] , expected_results= None)\n",
    "test(prog, input_data=['62.8'] , expected_results= None)\n",
    "test(prog, input_data=['55.5'] , expected_results= None)\n",
    "test(prog, input_data=['102'] , expected_results= None)\n",
    "test(prog, input_data=['-1'] , expected_results= None)\n"
   ]
  },
  {
   "cell_type": "markdown",
   "metadata": {
    "heading_collapsed": true,
    "hidden": true
   },
   "source": [
    "###### Test: Sum user entered numbers - (Ch4 Ex. 8)\n",
    "Promter user to enter a set of numbers, add, and output summation. \n",
    "\n",
    "Loop until the user enters a negative number, which stops the loop."
   ]
  },
  {
   "cell_type": "code",
   "execution_count": null,
   "metadata": {
    "code_folding": [],
    "hidden": true,
    "scrolled": true
   },
   "outputs": [],
   "source": [
    "# pygrader_test.py - this is where the specific tests are configured. \n",
    "\n",
    "# tp.to_funct() - reads the program under test, and writes a new program, adding\n",
    "#\t\tnecessary functions that are used to drive the program. \n",
    "# fpath - specify the path where the program under tests resides\n",
    "# file_name - the name of the program to test\n",
    "# return_results - the name of the primary function; returns results of prog execution  \n",
    "# cr_func_w_main - True - indicates the program has main() function\n",
    "#\t\t   False - indicates the program has no function. so create one\n",
    "\n",
    "# Summation Test\n",
    "to_funct(fpath=get_test_path(dir=\"test_dir\"),\n",
    "            file_name='sum.py',\n",
    "            return_results='sum',\n",
    "            cr_func_w_main=False)\n",
    "\n",
    "# after the new program is written, it is imported and driven by _prog_driver\n",
    "import _prg_undr_test as prog\n",
    "importlib.reload(prog)\n",
    "os.remove('_prg_undr_test.py') # removing program after loading into memory\n",
    "\n",
    "# input_data - the data to be entered into the running program under tests. \n",
    "# expected_results - the expected results to be returned by the program under tests. \n",
    "test(prog, input_data=['15', '45.29876','20000000','-3'] , expected_results= 20000060.29876)\n"
   ]
  },
  {
   "cell_type": "markdown",
   "metadata": {
    "heading_collapsed": true
   },
   "source": [
    "#### Compound Interest\n",
    "Manually Visualize code"
   ]
  },
  {
   "cell_type": "code",
   "execution_count": 6,
   "metadata": {
    "code_folding": [
     10
    ],
    "hidden": true,
    "scrolled": true
   },
   "outputs": [
    {
     "name": "stdout",
     "output_type": "stream",
     "text": [
      "\n",
      "\n",
      "Enter your deposit amount: 1500\n",
      "\n",
      "Year\t   Amount\n",
      "----       ------\n",
      "2018\t  1,500.00\n",
      "2019\t  1,560.00\n",
      "2020\t  1,622.40\n",
      "2021\t  1,687.30\n",
      "2022\t  1,754.79\n",
      "2023\t  1,824.98\n",
      "2024\t  1,897.98\n",
      "2025\t  1,973.90\n",
      "2026\t  2,052.85\n",
      "2027\t  2,134.97\n",
      "2028\t  2,220.37\n",
      "2029\t  2,309.18\n",
      "2030\t  2,401.55\n",
      "2031\t  2,497.61\n",
      "2032\t  2,597.51\n",
      "2033\t  2,701.42\n",
      "2034\t  2,809.47\n",
      "2035\t  2,921.85\n",
      "2036\t  3,038.72\n",
      "2037\t  3,160.27\n",
      "2038\t  3,286.68\n",
      "\n",
      "Total interest earned: 1,786.68\n"
     ]
    }
   ],
   "source": [
    "# pygrader_test.py - this is where the specific tests are configured. \n",
    "\n",
    "# tp.to_funct() - reads the program under test, and writes a new program, adding\n",
    "#\t\tnecessary functions that are used to drive the program. \n",
    "# fpath - specify the path where the program under tests resides\n",
    "# file_name - the name of the program to test\n",
    "# return_results - the name of the primary function; returns results of prog execution  \n",
    "# cr_func_w_main - True - indicates the program has main() function\n",
    "#\t\t   False - indicates the program has no function. so create one\n",
    "\n",
    "to_funct(fpath=get_test_path(dir=\"test_dir\"),\n",
    "            file_name='interest.py',\n",
    "            return_results='None',\n",
    "            cr_func_w_main=False)\n",
    "\n",
    "# after the new program is written, it is imported and driven by _prog_driver\n",
    "import _prg_undr_test as prog\n",
    "importlib.reload(prog)\n",
    "os.remove('_prg_undr_test.py') # removing program after loading into memory\n",
    "\n",
    "# input_data - the data to be entered into the running program under tests. \n",
    "# expected_results - the expected results to be returned by the program under tests. \n",
    "test(prog, input_data=['1500'] , expected_results= None)\n",
    "\n"
   ]
  },
  {
   "cell_type": "code",
   "execution_count": null,
   "metadata": {
    "hidden": true
   },
   "outputs": [],
   "source": []
  },
  {
   "cell_type": "markdown",
   "metadata": {
    "hidden": true
   },
   "source": [
    "###### NEXT TEST"
   ]
  },
  {
   "cell_type": "markdown",
   "metadata": {
    "hidden": true
   },
   "source": [
    "\n",
    "# "
   ]
  }
 ],
 "metadata": {
  "kernelspec": {
   "display_name": "Python 3",
   "language": "python",
   "name": "python3"
  },
  "language_info": {
   "codemirror_mode": {
    "name": "ipython",
    "version": 3
   },
   "file_extension": ".py",
   "mimetype": "text/x-python",
   "name": "python",
   "nbconvert_exporter": "python",
   "pygments_lexer": "ipython3",
   "version": "3.7.4"
  }
 },
 "nbformat": 4,
 "nbformat_minor": 2
}
