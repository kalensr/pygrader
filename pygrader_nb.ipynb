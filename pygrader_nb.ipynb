{
 "cells": [
  {
   "cell_type": "code",
   "execution_count": 1,
   "metadata": {},
   "outputs": [],
   "source": [
    "import os\n",
    "import time\n",
    "from pynput.keyboard import Key, Controller\n",
    "import threading\n",
    "\n",
    "keyboard = Controller()\n",
    "results = None\n",
    "\n",
    "\n",
    "# _write_test_program - reads into memory, the program undertests\n",
    "# modifies the program by adding function and return statements, and writes\n",
    "# to disk a new program (named _prg_undr_test.py) that can be imported\n",
    "# and called by _prog_driver.py\n",
    "# \t[code is too complex; will need to introduce regex, and reduce complexity, \n",
    "# \tand a number of unit tests]\n",
    "# maintained by kalen.howell@gmail.com \n",
    "\n",
    "def to_funct(fpath, file_name, return_results, cr_func_w_main=False):        \n",
    "    \n",
    "    #fpath='/Users/kalenhowellsr/Downloads/Debugging_Exercise_2'\n",
    "    #file_name = 'Debug1.py'\n",
    "    file_name=os.path.join(fpath, file_name)\n",
    "    \n",
    "    \n",
    "    if return_results != '':\n",
    "        cr_return=True\n",
    "    else:\n",
    "        cr_return=False\n",
    "    with open(file_name, \"r\") as in_file:\n",
    "        buf = in_file.readlines()\n",
    "    cnt = 0\n",
    "    if cr_func_w_main == False and cr_return==True:\n",
    "        with open(\"_prg_undr_test\" + \".py\", \"w\") as out_file:\n",
    "            for line in buf:\n",
    "                if cnt == 0:\n",
    "                    line = \"def do_work():\\n\\t\" + line\n",
    "                else:\n",
    "                    line = \"\\t\" + line\n",
    "                cnt =+1\n",
    "                out_file.write(line)\n",
    "            out_file.write(\"\\n\\treturn \" + return_results)\n",
    "    elif cr_func_w_main == True:\n",
    "        in_funct = False\n",
    "        ret_writen = False\n",
    "        with open(\"_prg_undr_test\" + \".py\", \"w\") as out_file:\n",
    "            for line in buf:\n",
    "                if cr_return ==True and \"def \" in line and in_funct == True:\n",
    "                    line = \"    return \" + return_results + \"\\n\" + line\n",
    "                    in_funct = False\n",
    "                    ret_writen = True\n",
    "                if \"def main():\" in line:\n",
    "                    line = \"def do_work():\\n\"\n",
    "                    in_funct = True\n",
    "                if \"main()\" in line:\n",
    "                    line = ''\n",
    "                out_file.write(line)\n",
    "            if ret_writen == False:\n",
    "                out_file.write(\"\\n    return \" + return_results)\n",
    "    else:\n",
    "        with open(\"_prg_undr_test\" + \".py\", \"w\") as out_file:\n",
    "            for line in buf:\n",
    "                out_file.write(line)\n"
   ]
  },
  {
   "cell_type": "code",
   "execution_count": 2,
   "metadata": {},
   "outputs": [],
   "source": [
    "# _prog_driver.py - is a multithreaded application used to: \n",
    "# 1. launch the program under tests\n",
    "# 2. drive data entry of the program under tests\n",
    "# 3. compares expted results against actual results of the program under tests\n",
    "# maintained by kalen.howell@gmail.com\n",
    "#import _prg_undr_test as prog\n",
    "\n",
    "def enter(data):\n",
    "    for d in data:\n",
    "        keyboard.press(d)\n",
    "        keyboard.release(d)\n",
    "    keyboard.press(Key.enter)\n",
    "    keyboard.release(Key.enter)\n",
    "    time.sleep(1)\n",
    "\n",
    "def launch_typer(input_data):\n",
    "    time.sleep(1)\n",
    "    for d in input_data:\n",
    "        enter(d)\n",
    "\n",
    "def launch_prg(prog, expected_results):\n",
    "    results = prog.do_work()\n",
    "    try:\n",
    "        assert results == expected_results, \"\\n **ERROR** \\texpecting: \" + str(expected_results) + \"\\n\\trecieved: \" + str(results) +\"\\n\"\n",
    "    except Exception as e: print(e)\n",
    "    \n",
    "def test(prog, input_data, expected_results):\n",
    "    \n",
    "    prog_ut = threading.Thread(target=launch_prg, args=(prog, expected_results,),daemon=True)\n",
    "    typer = threading.Thread(target=launch_typer, args=(input_data,), daemon=True)\n",
    "\n",
    "    prog_ut.start()\n",
    "    typer.start()\n",
    "    prog_ut.join()"
   ]
  },
  {
   "cell_type": "markdown",
   "metadata": {},
   "source": [
    "### Cookies Tests"
   ]
  },
  {
   "cell_type": "code",
   "execution_count": 27,
   "metadata": {},
   "outputs": [
    {
     "name": "stdout",
     "output_type": "stream",
     "text": [
      "Enter the number of cookies: 24\n",
      "The amount of sugar needed is: 0.750 cups\n",
      "The amount of butter needed is: 0.500 cups\n",
      "The amount of flour needed is: 1.375 cups\n",
      "Enter the number of cookies: 65\n",
      "The amount of sugar needed is: 2.031 cups\n",
      "The amount of butter needed is: 1.354 cups\n",
      "The amount of flour needed is: 3.724 cups\n"
     ]
    }
   ],
   "source": [
    "# pygrader_test.py - this is where the specific tests are configured. \n",
    "\n",
    "# tp.to_funct() - reads the program under test, and writes a new program, adding\n",
    "#\t\tnecessary functions that are used to drive the program. \n",
    "# fpath - specify the path where the program under tests resides\n",
    "# file_name - the name of the program to test\n",
    "# return_results - the name of the primary function; returns results of prog execution  \n",
    "# cr_func_w_main - True - indicates the program has main() function\n",
    "#\t\t   False - indicates the program has no function. so create one\n",
    "to_funct(fpath='/Users/kalenhowellsr/Projects/code/pygrader/test_dir/',\n",
    "            file_name='Cookies.py',\n",
    "            return_results='sugarNeeded, butterNeeded, flourNeeded',\n",
    "            cr_func_w_main=False)\n",
    "\n",
    "# after the new program is written, it is imported and driven by _prog_driver\n",
    "import _prg_undr_test as prog\n",
    "\n",
    "# input_data - the data to be entered into the running program under tests. \n",
    "# expected_results - the expected results to be returned by the program under tests. \n",
    "test(prog, input_data=['24'] , expected_results= (0.75, 0.5, 1.375))\n",
    "test(prog, input_data=['65'] , expected_results= (2.03125, 1.3541666666666665, 3.723958333333333))"
   ]
  },
  {
   "cell_type": "markdown",
   "metadata": {},
   "source": [
    "#### "
   ]
  }
 ],
 "metadata": {
  "kernelspec": {
   "display_name": "Python 3",
   "language": "python",
   "name": "python3"
  },
  "language_info": {
   "codemirror_mode": {
    "name": "ipython",
    "version": 3
   },
   "file_extension": ".py",
   "mimetype": "text/x-python",
   "name": "python",
   "nbconvert_exporter": "python",
   "pygments_lexer": "ipython3",
   "version": "3.7.4"
  }
 },
 "nbformat": 4,
 "nbformat_minor": 2
}
